{
 "cells": [
  {
   "cell_type": "code",
   "execution_count": 5,
   "metadata": {
    "metadata": {}
   },
   "outputs": [
    {
     "name": "stdout",
     "output_type": "stream",
     "text": [
      "JSON文件已生成。\n"
     ]
    }
   ],
   "source": [
    "import csv\n",
    "import json\n",
    "\n",
    "# 要读取的CSV文件路径\n",
    "csv_file_path = 'f:\\大模型项目\\微调项目\\风格迁移\\data\\sft\\ShuiHuZhuan_Parallel.csv'\n",
    "# 要写入的JSON文件路径\n",
    "json_file_path = 'f:\\大模型项目\\微调项目\\风格迁移\\data\\sft\\ShuiHuZhuan_Parallel.json'\n",
    "\n",
    "# 读取CSV数据\n",
    "data = []\n",
    "with open(csv_file_path, newline='', encoding='utf-8') as csvfile:\n",
    "    reader = csv.reader(csvfile)\n",
    "    next(reader)  # 跳过标题行\n",
    "    for row in reader:\n",
    "        # 每行数据转换为指定的JSON格式\n",
    "        entry = {\n",
    "            \"instruction\": row[0],\n",
    "            \"input\": \"\",\n",
    "            \"output\": row[1]\n",
    "        }\n",
    "        data.append(entry)\n",
    "\n",
    "# 将数据写入JSON文件\n",
    "with open(json_file_path, 'w', encoding='utf-8') as jsonfile:\n",
    "    json.dump(data, jsonfile, ensure_ascii=False, indent=4)\n",
    "\n",
    "print(\"JSON文件已生成。\")\n"
   ]
  }
 ],
 "metadata": {
  "kernelspec": {
   "display_name": "base",
   "language": "python",
   "name": "python3"
  },
  "language_info": {
   "codemirror_mode": {
    "name": "ipython",
    "version": 3
   },
   "file_extension": ".py",
   "mimetype": "text/x-python",
   "name": "python",
   "nbconvert_exporter": "python",
   "pygments_lexer": "ipython3",
   "version": "3.9.13"
  }
 },
 "nbformat": 4,
 "nbformat_minor": 2
}
