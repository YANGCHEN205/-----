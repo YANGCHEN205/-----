{
 "cells": [
  {
   "cell_type": "code",
   "execution_count": 43,
   "metadata": {
    "metadata": {}
   },
   "outputs": [],
   "source": [
    "corpus = [\n",
    "    \"This is the Hugging Face Course.\",\n",
    "    \"This chapter is about tokenization.\",\n",
    "    \"This section shows several tokenizer algorithms.\",\n",
    "    \"Hopefully, you will be able to understand how they are trained and generate tokens.\",\n",
    "]"
   ]
  },
  {
   "cell_type": "code",
   "execution_count": 44,
   "metadata": {
    "metadata": {}
   },
   "outputs": [
    {
     "name": "stdout",
     "output_type": "stream",
     "text": [
      "[[('This', (0, 4)), ('Ġis', (4, 7)), ('Ġthe', (7, 11)), ('ĠHugging', (11, 19)), ('ĠFace', (19, 24)), ('ĠCourse', (24, 31)), ('.', (31, 32))], [('This', (0, 4)), ('Ġchapter', (4, 12)), ('Ġis', (12, 15)), ('Ġabout', (15, 21)), ('Ġtokenization', (21, 34)), ('.', (34, 35))], [('This', (0, 4)), ('Ġsection', (4, 12)), ('Ġshows', (12, 18)), ('Ġseveral', (18, 26)), ('Ġtokenizer', (26, 36)), ('Ġalgorithms', (36, 47)), ('.', (47, 48))], [('Hopefully', (0, 9)), (',', (9, 10)), ('Ġyou', (10, 14)), ('Ġwill', (14, 19)), ('Ġbe', (19, 22)), ('Ġable', (22, 27)), ('Ġto', (27, 30)), ('Ġunderstand', (30, 41)), ('Ġhow', (41, 45)), ('Ġthey', (45, 50)), ('Ġare', (50, 54)), ('Ġtrained', (54, 62)), ('Ġand', (62, 66)), ('Ġgenerate', (66, 75)), ('Ġtokens', (75, 82)), ('.', (82, 83))]]\n"
     ]
    }
   ],
   "source": [
    "from transformers import AutoTokenizer\n",
    "\n",
    "# init pre tokenize function\n",
    "gpt2_tokenizer = AutoTokenizer.from_pretrained(\"gpt2\")\n",
    "pre_tokenize_function = gpt2_tokenizer.backend_tokenizer.pre_tokenizer.pre_tokenize_str\n",
    "\n",
    "# pre tokenize\n",
    "pre_tokenized_corpus = [pre_tokenize_function(text) for text in corpus]\n",
    "print(pre_tokenized_corpus)"
   ]
  },
  {
   "cell_type": "code",
   "execution_count": 45,
   "metadata": {
    "metadata": {}
   },
   "outputs": [
    {
     "name": "stdout",
     "output_type": "stream",
     "text": [
      "defaultdict(<class 'int'>, {'This': 3, 'Ġis': 2, 'Ġthe': 1, 'ĠHugging': 1, 'ĠFace': 1, 'ĠCourse': 1, '.': 4, 'Ġchapter': 1, 'Ġabout': 1, 'Ġtokenization': 1, 'Ġsection': 1, 'Ġshows': 1, 'Ġseveral': 1, 'Ġtokenizer': 1, 'Ġalgorithms': 1, 'Hopefully': 1, ',': 1, 'Ġyou': 1, 'Ġwill': 1, 'Ġbe': 1, 'Ġable': 1, 'Ġto': 1, 'Ġunderstand': 1, 'Ġhow': 1, 'Ġthey': 1, 'Ġare': 1, 'Ġtrained': 1, 'Ġand': 1, 'Ġgenerate': 1, 'Ġtokens': 1})\n"
     ]
    }
   ],
   "source": [
    "## 统计词频\n",
    "from collections import defaultdict\n",
    "word2count = defaultdict(int)\n",
    "for split_text in pre_tokenized_corpus:\n",
    "    for word, _ in split_text:\n",
    "        word2count[word] += 1\n",
    "print(word2count)"
   ]
  },
  {
   "cell_type": "code",
   "execution_count": 46,
   "metadata": {
    "metadata": {}
   },
   "outputs": [
    {
     "name": "stdout",
     "output_type": "stream",
     "text": [
      "['h', ',', 's', 'F', 'i', 'd', 't', 'c', '.', 'f', 'y', 'o', 'Ġ', 'T', 'C', 'z', 'g', 'a', 'H', 'p', 'r', 'k', 'm', 'n', 'v', 'u', 'b', 'w', 'e', 'l']\n"
     ]
    }
   ],
   "source": [
    "# 因为BPE是从字符级别的小词表，逐步合并成大词表，所以需要先获得字符级别的小词表。\n",
    "\n",
    "vocab_set = set()\n",
    "for word in word2count:\n",
    "    vocab_set.update(list(word))\n",
    "vocabs = list(vocab_set)\n",
    "print(vocabs)"
   ]
  },
  {
   "cell_type": "code",
   "execution_count": 47,
   "metadata": {
    "metadata": {}
   },
   "outputs": [
    {
     "name": "stdout",
     "output_type": "stream",
     "text": [
      "{'This': ['T', 'h', 'i', 's'], 'Ġis': ['Ġ', 'i', 's'], 'Ġthe': ['Ġ', 't', 'h', 'e'], 'ĠHugging': ['Ġ', 'H', 'u', 'g', 'g', 'i', 'n', 'g'], 'ĠFace': ['Ġ', 'F', 'a', 'c', 'e'], 'ĠCourse': ['Ġ', 'C', 'o', 'u', 'r', 's', 'e'], '.': ['.'], 'Ġchapter': ['Ġ', 'c', 'h', 'a', 'p', 't', 'e', 'r'], 'Ġabout': ['Ġ', 'a', 'b', 'o', 'u', 't'], 'Ġtokenization': ['Ġ', 't', 'o', 'k', 'e', 'n', 'i', 'z', 'a', 't', 'i', 'o', 'n'], 'Ġsection': ['Ġ', 's', 'e', 'c', 't', 'i', 'o', 'n'], 'Ġshows': ['Ġ', 's', 'h', 'o', 'w', 's'], 'Ġseveral': ['Ġ', 's', 'e', 'v', 'e', 'r', 'a', 'l'], 'Ġtokenizer': ['Ġ', 't', 'o', 'k', 'e', 'n', 'i', 'z', 'e', 'r'], 'Ġalgorithms': ['Ġ', 'a', 'l', 'g', 'o', 'r', 'i', 't', 'h', 'm', 's'], 'Hopefully': ['H', 'o', 'p', 'e', 'f', 'u', 'l', 'l', 'y'], ',': [','], 'Ġyou': ['Ġ', 'y', 'o', 'u'], 'Ġwill': ['Ġ', 'w', 'i', 'l', 'l'], 'Ġbe': ['Ġ', 'b', 'e'], 'Ġable': ['Ġ', 'a', 'b', 'l', 'e'], 'Ġto': ['Ġ', 't', 'o'], 'Ġunderstand': ['Ġ', 'u', 'n', 'd', 'e', 'r', 's', 't', 'a', 'n', 'd'], 'Ġhow': ['Ġ', 'h', 'o', 'w'], 'Ġthey': ['Ġ', 't', 'h', 'e', 'y'], 'Ġare': ['Ġ', 'a', 'r', 'e'], 'Ġtrained': ['Ġ', 't', 'r', 'a', 'i', 'n', 'e', 'd'], 'Ġand': ['Ġ', 'a', 'n', 'd'], 'Ġgenerate': ['Ġ', 'g', 'e', 'n', 'e', 'r', 'a', 't', 'e'], 'Ġtokens': ['Ġ', 't', 'o', 'k', 'e', 'n', 's']}\n"
     ]
    }
   ],
   "source": [
    "# 基于小词表就可以对每个整词进行切分\n",
    "\n",
    "word2splits = {word: [c for c in word] for word in word2count}\n",
    "print(word2splits)\n",
    "# 'This': ['T', 'h', 'i', 's'], \n",
    "# 'Ġis': ['Ġ', 'i', 's'], \n",
    "# 'Ġthe': ['Ġ', 't', 'h', 'e'], \n",
    "# ...\n",
    "# 'Ġand': ['Ġ', 'a', 'n', 'd'], \n",
    "# 'Ġgenerate': ['Ġ', 'g', 'e', 'n', 'e', 'r', 'a', 't', 'e'], \n",
    "# 'Ġtokens': ['Ġ', 't', 'o', 'k', 'e', 'n', 's']"
   ]
  },
  {
   "cell_type": "code",
   "execution_count": 48,
   "metadata": {
    "metadata": {}
   },
   "outputs": [
    {
     "name": "stdout",
     "output_type": "stream",
     "text": [
      "defaultdict(<class 'int'>, {('T', 'h'): 3, ('h', 'i'): 3, ('i', 's'): 5, ('Ġ', 'i'): 2, ('Ġ', 't'): 7, ('t', 'h'): 3, ('h', 'e'): 2, ('Ġ', 'H'): 1, ('H', 'u'): 1, ('u', 'g'): 1, ('g', 'g'): 1, ('g', 'i'): 1, ('i', 'n'): 2, ('n', 'g'): 1, ('Ġ', 'F'): 1, ('F', 'a'): 1, ('a', 'c'): 1, ('c', 'e'): 1, ('Ġ', 'C'): 1, ('C', 'o'): 1, ('o', 'u'): 3, ('u', 'r'): 1, ('r', 's'): 2, ('s', 'e'): 3, ('Ġ', 'c'): 1, ('c', 'h'): 1, ('h', 'a'): 1, ('a', 'p'): 1, ('p', 't'): 1, ('t', 'e'): 2, ('e', 'r'): 5, ('Ġ', 'a'): 5, ('a', 'b'): 2, ('b', 'o'): 1, ('u', 't'): 1, ('t', 'o'): 4, ('o', 'k'): 3, ('k', 'e'): 3, ('e', 'n'): 4, ('n', 'i'): 2, ('i', 'z'): 2, ('z', 'a'): 1, ('a', 't'): 2, ('t', 'i'): 2, ('i', 'o'): 2, ('o', 'n'): 2, ('Ġ', 's'): 3, ('e', 'c'): 1, ('c', 't'): 1, ('s', 'h'): 1, ('h', 'o'): 2, ('o', 'w'): 2, ('w', 's'): 1, ('e', 'v'): 1, ('v', 'e'): 1, ('r', 'a'): 3, ('a', 'l'): 2, ('z', 'e'): 1, ('l', 'g'): 1, ('g', 'o'): 1, ('o', 'r'): 1, ('r', 'i'): 1, ('i', 't'): 1, ('h', 'm'): 1, ('m', 's'): 1, ('H', 'o'): 1, ('o', 'p'): 1, ('p', 'e'): 1, ('e', 'f'): 1, ('f', 'u'): 1, ('u', 'l'): 1, ('l', 'l'): 2, ('l', 'y'): 1, ('Ġ', 'y'): 1, ('y', 'o'): 1, ('Ġ', 'w'): 1, ('w', 'i'): 1, ('i', 'l'): 1, ('Ġ', 'b'): 1, ('b', 'e'): 1, ('b', 'l'): 1, ('l', 'e'): 1, ('Ġ', 'u'): 1, ('u', 'n'): 1, ('n', 'd'): 3, ('d', 'e'): 1, ('s', 't'): 1, ('t', 'a'): 1, ('a', 'n'): 2, ('Ġ', 'h'): 1, ('e', 'y'): 1, ('a', 'r'): 1, ('r', 'e'): 1, ('t', 'r'): 1, ('a', 'i'): 1, ('n', 'e'): 2, ('e', 'd'): 1, ('Ġ', 'g'): 1, ('g', 'e'): 1, ('n', 's'): 1})\n"
     ]
    }
   ],
   "source": [
    "# 基于word2splits统计vocabs中相邻两个pair的词频pair2count\n",
    "\n",
    "def _compute_pair2score(word2splits, word2count):\n",
    "    pair2count = defaultdict(int)\n",
    "    for word, word_count in word2count.items():\n",
    "        split = word2splits[word]\n",
    "        if len(split) == 1:\n",
    "            continue\n",
    "        for i in range(len(split) - 1):\n",
    "            pair = (split[i], split[i + 1])\n",
    "            pair2count[pair] += word_count\n",
    "    return pair2count\n",
    "pair2count = _compute_pair2score(word2splits, word2count)\n",
    "print(pair2count)"
   ]
  },
  {
   "cell_type": "code",
   "execution_count": 49,
   "metadata": {
    "metadata": {}
   },
   "outputs": [
    {
     "name": "stdout",
     "output_type": "stream",
     "text": [
      "('Ġ', 't')\n"
     ]
    }
   ],
   "source": [
    "# 统计当前频率最高的相邻pair\n",
    "def _compute_most_score_pair(pair2count):\n",
    "    best_pair = None\n",
    "    max_freq = None\n",
    "    for pair, freq in pair2count.items():\n",
    "        if max_freq is None or max_freq < freq:\n",
    "            best_pair = pair\n",
    "            max_freq = freq\n",
    "    return best_pair\n",
    "best_pair = _compute_most_score_pair(pair2count)\n",
    "print(best_pair)"
   ]
  },
  {
   "cell_type": "code",
   "execution_count": 50,
   "metadata": {
    "metadata": {}
   },
   "outputs": [
    {
     "name": "stdout",
     "output_type": "stream",
     "text": [
      "['h', ',', 's', 'F', 'i', 'd', 't', 'c', '.', 'f', 'y', 'o', 'Ġ', 'T', 'C', 'z', 'g', 'a', 'H', 'p', 'r', 'k', 'm', 'n', 'v', 'u', 'b', 'w', 'e', 'l', 'Ġt']\n"
     ]
    }
   ],
   "source": [
    "# 经过统计，当前频率最高的pair为: ('Ġ', 't')， 频率为7次。 将('Ġ', 't')合并成一个词并添加到词表中。同时在合并规则中添加('Ġ', 't')这条合并规则。\n",
    "\n",
    "merge_rules = []\n",
    "best_pair = _compute_most_score_pair(pair2count)\n",
    "vocabs.append(best_pair[0] + best_pair[1])\n",
    "merge_rules.append(best_pair)\n",
    "print(vocabs)"
   ]
  },
  {
   "cell_type": "code",
   "execution_count": 51,
   "metadata": {
    "metadata": {}
   },
   "outputs": [
    {
     "data": {
      "text/plain": [
       "{'This': ['T', 'h', 'i', 's'],\n",
       " 'Ġis': ['Ġ', 'i', 's'],\n",
       " 'Ġthe': ['Ġt', 'h', 'e'],\n",
       " 'ĠHugging': ['Ġ', 'H', 'u', 'g', 'g', 'i', 'n', 'g'],\n",
       " 'ĠFace': ['Ġ', 'F', 'a', 'c', 'e'],\n",
       " 'ĠCourse': ['Ġ', 'C', 'o', 'u', 'r', 's', 'e'],\n",
       " '.': ['.'],\n",
       " 'Ġchapter': ['Ġ', 'c', 'h', 'a', 'p', 't', 'e', 'r'],\n",
       " 'Ġabout': ['Ġ', 'a', 'b', 'o', 'u', 't'],\n",
       " 'Ġtokenization': ['Ġt',\n",
       "  'o',\n",
       "  'k',\n",
       "  'e',\n",
       "  'n',\n",
       "  'i',\n",
       "  'z',\n",
       "  'a',\n",
       "  't',\n",
       "  'i',\n",
       "  'o',\n",
       "  'n'],\n",
       " 'Ġsection': ['Ġ', 's', 'e', 'c', 't', 'i', 'o', 'n'],\n",
       " 'Ġshows': ['Ġ', 's', 'h', 'o', 'w', 's'],\n",
       " 'Ġseveral': ['Ġ', 's', 'e', 'v', 'e', 'r', 'a', 'l'],\n",
       " 'Ġtokenizer': ['Ġt', 'o', 'k', 'e', 'n', 'i', 'z', 'e', 'r'],\n",
       " 'Ġalgorithms': ['Ġ', 'a', 'l', 'g', 'o', 'r', 'i', 't', 'h', 'm', 's'],\n",
       " 'Hopefully': ['H', 'o', 'p', 'e', 'f', 'u', 'l', 'l', 'y'],\n",
       " ',': [','],\n",
       " 'Ġyou': ['Ġ', 'y', 'o', 'u'],\n",
       " 'Ġwill': ['Ġ', 'w', 'i', 'l', 'l'],\n",
       " 'Ġbe': ['Ġ', 'b', 'e'],\n",
       " 'Ġable': ['Ġ', 'a', 'b', 'l', 'e'],\n",
       " 'Ġto': ['Ġt', 'o'],\n",
       " 'Ġunderstand': ['Ġ', 'u', 'n', 'd', 'e', 'r', 's', 't', 'a', 'n', 'd'],\n",
       " 'Ġhow': ['Ġ', 'h', 'o', 'w'],\n",
       " 'Ġthey': ['Ġt', 'h', 'e', 'y'],\n",
       " 'Ġare': ['Ġ', 'a', 'r', 'e'],\n",
       " 'Ġtrained': ['Ġt', 'r', 'a', 'i', 'n', 'e', 'd'],\n",
       " 'Ġand': ['Ġ', 'a', 'n', 'd'],\n",
       " 'Ġgenerate': ['Ġ', 'g', 'e', 'n', 'e', 'r', 'a', 't', 'e'],\n",
       " 'Ġtokens': ['Ġt', 'o', 'k', 'e', 'n', 's']}"
      ]
     },
     "execution_count": 51,
     "metadata": {},
     "output_type": "execute_result"
    }
   ],
   "source": [
    "# 根据更新后的vocab重新对word2count进行切分。具体实现上，可以直接在旧的word2split上应用新的合并规则('Ġ', 't')\n",
    "def _merge_pair(a, b, word2splits):\n",
    "    new_word2splits = dict()\n",
    "    for word, split in word2splits.items():\n",
    "        if len(split) == 1:\n",
    "            new_word2splits[word] = split\n",
    "            continue\n",
    "        i = 0\n",
    "        while i < len(split) - 1:\n",
    "            if split[i] == a and split[i + 1] == b:\n",
    "                split = split[:i] + [a + b] + split[i + 2:]\n",
    "            else:\n",
    "                i += 1\n",
    "        new_word2splits[word] = split\n",
    "    return new_word2splits\n",
    "\n",
    "_merge_pair(best_pair[0], best_pair[1], word2splits)"
   ]
  },
  {
   "cell_type": "code",
   "execution_count": 52,
   "metadata": {
    "metadata": {}
   },
   "outputs": [
    {
     "name": "stdout",
     "output_type": "stream",
     "text": [
      "{'This': ['This'], 'Ġis': ['Ġis'], 'Ġthe': ['Ġthe'], 'ĠHugging': ['Ġ', 'H', 'u', 'g', 'g', 'in', 'g'], 'ĠFace': ['Ġ', 'F', 'a', 'c', 'e'], 'ĠCourse': ['Ġ', 'C', 'ou', 'r', 'se'], '.': ['.'], 'Ġchapter': ['Ġ', 'c', 'h', 'a', 'p', 't', 'er'], 'Ġabout': ['Ġab', 'ou', 't'], 'Ġtokenization': ['Ġtokeni', 'z', 'a', 't', 'i', 'o', 'n'], 'Ġsection': ['Ġ', 'se', 'c', 't', 'i', 'o', 'n'], 'Ġshows': ['Ġ', 's', 'h', 'o', 'w', 's'], 'Ġseveral': ['Ġ', 'se', 'v', 'er', 'a', 'l'], 'Ġtokenizer': ['Ġtokeni', 'z', 'er'], 'Ġalgorithms': ['Ġa', 'l', 'g', 'o', 'r', 'i', 't', 'h', 'm', 's'], 'Hopefully': ['H', 'o', 'p', 'e', 'f', 'u', 'l', 'l', 'y'], ',': [','], 'Ġyou': ['Ġ', 'y', 'ou'], 'Ġwill': ['Ġ', 'w', 'i', 'l', 'l'], 'Ġbe': ['Ġ', 'b', 'e'], 'Ġable': ['Ġab', 'l', 'e'], 'Ġto': ['Ġto'], 'Ġunderstand': ['Ġ', 'u', 'nd', 'er', 's', 't', 'a', 'nd'], 'Ġhow': ['Ġ', 'h', 'o', 'w'], 'Ġthey': ['Ġthe', 'y'], 'Ġare': ['Ġa', 'r', 'e'], 'Ġtrained': ['Ġt', 'r', 'a', 'in', 'e', 'd'], 'Ġand': ['Ġa', 'nd'], 'Ġgenerate': ['Ġ', 'g', 'en', 'er', 'a', 't', 'e'], 'Ġtokens': ['Ġtoken', 's']}\n",
      "['h', ',', 's', 'F', 'i', 'd', 't', 'c', '.', 'f', 'y', 'o', 'Ġ', 'T', 'C', 'z', 'g', 'a', 'H', 'p', 'r', 'k', 'm', 'n', 'v', 'u', 'b', 'w', 'e', 'l', 'Ġt', 'Ġt', 'is', 'er', 'Ġa', 'Ġto', 'en', 'Th', 'This', 'ou', 'se', 'Ġtok', 'Ġtoken', 'nd', 'Ġis', 'Ġth', 'Ġthe', 'in', 'Ġab', 'Ġtokeni']\n"
     ]
    }
   ],
   "source": [
    "# 重复上述循环直到整个词表的大小达到预先设定的词表大小。\n",
    "vocab_size=50\n",
    "while len(vocabs) < vocab_size:\n",
    "    pair2score = _compute_pair2score(word2splits, word2count)\n",
    "    best_pair = _compute_most_score_pair(pair2score)\n",
    "    vocabs.append(best_pair[0] + best_pair[1])\n",
    "    merge_rules.append(best_pair)\n",
    "    word2splits = _merge_pair(best_pair[0], best_pair[1], word2splits)\n",
    "print(word2splits)\n",
    "print(vocabs)"
   ]
  },
  {
   "cell_type": "code",
   "execution_count": 53,
   "metadata": {
    "metadata": {}
   },
   "outputs": [
    {
     "data": {
      "text/plain": [
       "['This', 'Ġis', 'Ġ', 'n', 'o', 't', 'Ġa', 'Ġtoken', '.']"
      ]
     },
     "execution_count": 53,
     "metadata": {},
     "output_type": "execute_result"
    }
   ],
   "source": [
    "# 在推理阶段，给定一个句子，我们需要将其切分成一个token的序列。 具体实现上需要先对句子进行预分词并切分成字符级别的序列，然后根据合并规则进行合并。\n",
    "\n",
    "def tokenize(text):\n",
    "    # pre tokenize\n",
    "    words = [word for word, _ in gpt2_tokenizer.backend_tokenizer.pre_tokenizer.pre_tokenize_str(text)]\n",
    "    # split into char level\n",
    "    splits = [[c for c in word] for word in words]\n",
    "    # apply merge rules\n",
    "    for merge_rule in merge_rules:\n",
    "        for index, split in enumerate(splits):\n",
    "            i = 0\n",
    "            while i < len(split) - 1:\n",
    "                if split[i] == merge_rule[0] and split[i + 1] == merge_rule[1]:\n",
    "                    split = split[:i] + [\"\".join(merge_rule)] + split[i + 2:]\n",
    "                else:\n",
    "                    i += 1\n",
    "            splits[index] = split\n",
    "    return sum(splits, [])\n",
    "tokenize(\"This is not a token.\")"
   ]
  },
  {
   "cell_type": "markdown",
   "metadata": {},
   "source": [
    "################ WordPiece"
   ]
  },
  {
   "cell_type": "code",
   "execution_count": 54,
   "metadata": {
    "metadata": {}
   },
   "outputs": [],
   "source": [
    "corpus = [\n",
    "    \"This is the Hugging Face Course.\",\n",
    "    \"This chapter is about tokenization.\",\n",
    "    \"This section shows several tokenizer algorithms.\",\n",
    "    \"Hopefully, you will be able to understand how they are trained and generate tokens.\",\n",
    "]"
   ]
  },
  {
   "cell_type": "code",
   "execution_count": 55,
   "metadata": {
    "metadata": {}
   },
   "outputs": [
    {
     "name": "stdout",
     "output_type": "stream",
     "text": [
      "[[('This', (0, 4)), ('is', (5, 7)), ('the', (8, 11)), ('Hugging', (12, 19)), ('Face', (20, 24)), ('Course', (25, 31)), ('.', (31, 32))], [('This', (0, 4)), ('chapter', (5, 12)), ('is', (13, 15)), ('about', (16, 21)), ('tokenization', (22, 34)), ('.', (34, 35))], [('This', (0, 4)), ('section', (5, 12)), ('shows', (13, 18)), ('several', (19, 26)), ('tokenizer', (27, 36)), ('algorithms', (37, 47)), ('.', (47, 48))], [('Hopefully', (0, 9)), (',', (9, 10)), ('you', (11, 14)), ('will', (15, 19)), ('be', (20, 22)), ('able', (23, 27)), ('to', (28, 30)), ('understand', (31, 41)), ('how', (42, 45)), ('they', (46, 50)), ('are', (51, 54)), ('trained', (55, 62)), ('and', (63, 66)), ('generate', (67, 75)), ('tokens', (76, 82)), ('.', (82, 83))]]\n"
     ]
    }
   ],
   "source": [
    "from transformers import AutoTokenizer\n",
    "\n",
    "# init pre tokenize function\n",
    "bert_tokenizer = AutoTokenizer.from_pretrained(\"bert-base-cased\")\n",
    "pre_tokenize_function = bert_tokenizer.backend_tokenizer.pre_tokenizer.pre_tokenize_str\n",
    "\n",
    "# pre tokenize\n",
    "pre_tokenized_corpus = [pre_tokenize_function(text) for text in corpus]\n",
    "print(pre_tokenized_corpus )"
   ]
  },
  {
   "cell_type": "code",
   "execution_count": 56,
   "metadata": {
    "metadata": {}
   },
   "outputs": [
    {
     "name": "stdout",
     "output_type": "stream",
     "text": [
      "defaultdict(<class 'int'>, {'This': 3, 'is': 2, 'the': 1, 'Hugging': 1, 'Face': 1, 'Course': 1, '.': 4, 'chapter': 1, 'about': 1, 'tokenization': 1, 'section': 1, 'shows': 1, 'several': 1, 'tokenizer': 1, 'algorithms': 1, 'Hopefully': 1, ',': 1, 'you': 1, 'will': 1, 'be': 1, 'able': 1, 'to': 1, 'understand': 1, 'how': 1, 'they': 1, 'are': 1, 'trained': 1, 'and': 1, 'generate': 1, 'tokens': 1})\n"
     ]
    }
   ],
   "source": [
    "word2count = defaultdict(int)\n",
    "for split_text in pre_tokenized_corpus:\n",
    "    for word, _ in split_text:\n",
    "        word2count[word] += 1\n",
    "print(word2count)"
   ]
  },
  {
   "cell_type": "code",
   "execution_count": 57,
   "metadata": {
    "metadata": {}
   },
   "outputs": [
    {
     "name": "stdout",
     "output_type": "stream",
     "text": [
      "['h', ',', '##p', '##f', '##m', '##t', '##b', 's', 'F', 'i', '##z', 't', '.', 'c', 'y', 'b', '##c', '##k', 'T', '##y', '##s', 'C', '##v', 'g', 'a', '##e', '##o', 'H', '##n', '##g', '##h', '##i', '##w', '##d', '##r', 'u', '##u', '##l', 'w', '##a']\n"
     ]
    }
   ],
   "source": [
    "vocab_set = set()\n",
    "for word in word2count:\n",
    "    vocab_set.add(word[0])\n",
    "    vocab_set.update(['##' + c for c in word[1:]])\n",
    "vocabs = list(vocab_set)\n",
    "print(vocabs)"
   ]
  },
  {
   "cell_type": "code",
   "execution_count": 58,
   "metadata": {
    "metadata": {}
   },
   "outputs": [
    {
     "name": "stdout",
     "output_type": "stream",
     "text": [
      "{'This': ['T', '##h', '##i', '##s'], 'is': ['i', '##s'], 'the': ['t', '##h', '##e'], 'Hugging': ['H', '##u', '##g', '##g', '##i', '##n', '##g'], 'Face': ['F', '##a', '##c', '##e'], 'Course': ['C', '##o', '##u', '##r', '##s', '##e'], '.': ['.'], 'chapter': ['c', '##h', '##a', '##p', '##t', '##e', '##r'], 'about': ['a', '##b', '##o', '##u', '##t'], 'tokenization': ['t', '##o', '##k', '##e', '##n', '##i', '##z', '##a', '##t', '##i', '##o', '##n'], 'section': ['s', '##e', '##c', '##t', '##i', '##o', '##n'], 'shows': ['s', '##h', '##o', '##w', '##s'], 'several': ['s', '##e', '##v', '##e', '##r', '##a', '##l'], 'tokenizer': ['t', '##o', '##k', '##e', '##n', '##i', '##z', '##e', '##r'], 'algorithms': ['a', '##l', '##g', '##o', '##r', '##i', '##t', '##h', '##m', '##s'], 'Hopefully': ['H', '##o', '##p', '##e', '##f', '##u', '##l', '##l', '##y'], ',': [','], 'you': ['y', '##o', '##u'], 'will': ['w', '##i', '##l', '##l'], 'be': ['b', '##e'], 'able': ['a', '##b', '##l', '##e'], 'to': ['t', '##o'], 'understand': ['u', '##n', '##d', '##e', '##r', '##s', '##t', '##a', '##n', '##d'], 'how': ['h', '##o', '##w'], 'they': ['t', '##h', '##e', '##y'], 'are': ['a', '##r', '##e'], 'trained': ['t', '##r', '##a', '##i', '##n', '##e', '##d'], 'and': ['a', '##n', '##d'], 'generate': ['g', '##e', '##n', '##e', '##r', '##a', '##t', '##e'], 'tokens': ['t', '##o', '##k', '##e', '##n', '##s']}\n"
     ]
    }
   ],
   "source": [
    "word2splits = {word: [word[0]] + ['##' + c for c in word[1:]] for word in word2count}\n",
    "print(word2splits)"
   ]
  },
  {
   "cell_type": "code",
   "execution_count": 59,
   "metadata": {
    "metadata": {}
   },
   "outputs": [
    {
     "name": "stdout",
     "output_type": "stream",
     "text": [
      "{('T', '##h'): 0.125, ('##h', '##i'): 0.03409090909090909, ('##i', '##s'): 0.02727272727272727, ('i', '##s'): 0.1, ('t', '##h'): 0.03571428571428571, ('##h', '##e'): 0.011904761904761904, ('H', '##u'): 0.1, ('##u', '##g'): 0.05, ('##g', '##g'): 0.0625, ('##g', '##i'): 0.022727272727272728, ('##i', '##n'): 0.01652892561983471, ('##n', '##g'): 0.022727272727272728, ('F', '##a'): 0.14285714285714285, ('##a', '##c'): 0.07142857142857142, ('##c', '##e'): 0.023809523809523808, ('C', '##o'): 0.07692307692307693, ('##o', '##u'): 0.046153846153846156, ('##u', '##r'): 0.022222222222222223, ('##r', '##s'): 0.022222222222222223, ('##s', '##e'): 0.004761904761904762, ('c', '##h'): 0.125, ('##h', '##a'): 0.017857142857142856, ('##a', '##p'): 0.07142857142857142, ('##p', '##t'): 0.07142857142857142, ('##t', '##e'): 0.013605442176870748, ('##e', '##r'): 0.026455026455026454, ('a', '##b'): 0.2, ('##b', '##o'): 0.038461538461538464, ('##u', '##t'): 0.02857142857142857, ('t', '##o'): 0.04395604395604396, ('##o', '##k'): 0.07692307692307693, ('##k', '##e'): 0.047619047619047616, ('##e', '##n'): 0.017316017316017316, ('##n', '##i'): 0.01652892561983471, ('##i', '##z'): 0.09090909090909091, ('##z', '##a'): 0.07142857142857142, ('##a', '##t'): 0.04081632653061224, ('##t', '##i'): 0.025974025974025976, ('##i', '##o'): 0.013986013986013986, ('##o', '##n'): 0.013986013986013986, ('s', '##e'): 0.031746031746031744, ('##e', '##c'): 0.023809523809523808, ('##c', '##t'): 0.07142857142857142, ('s', '##h'): 0.041666666666666664, ('##h', '##o'): 0.009615384615384616, ('##o', '##w'): 0.07692307692307693, ('##w', '##s'): 0.05, ('##e', '##v'): 0.047619047619047616, ('##v', '##e'): 0.047619047619047616, ('##r', '##a'): 0.047619047619047616, ('##a', '##l'): 0.02040816326530612, ('##z', '##e'): 0.023809523809523808, ('a', '##l'): 0.02857142857142857, ('##l', '##g'): 0.03571428571428571, ('##g', '##o'): 0.019230769230769232, ('##o', '##r'): 0.008547008547008548, ('##r', '##i'): 0.010101010101010102, ('##i', '##t'): 0.012987012987012988, ('##t', '##h'): 0.017857142857142856, ('##h', '##m'): 0.125, ('##m', '##s'): 0.1, ('H', '##o'): 0.038461538461538464, ('##o', '##p'): 0.038461538461538464, ('##p', '##e'): 0.023809523809523808, ('##e', '##f'): 0.047619047619047616, ('##f', '##u'): 0.2, ('##u', '##l'): 0.02857142857142857, ('##l', '##l'): 0.04081632653061224, ('##l', '##y'): 0.07142857142857142, ('y', '##o'): 0.07692307692307693, ('w', '##i'): 0.09090909090909091, ('##i', '##l'): 0.012987012987012988, ('b', '##e'): 0.047619047619047616, ('##b', '##l'): 0.07142857142857142, ('##l', '##e'): 0.006802721088435374, ('u', '##n'): 0.09090909090909091, ('##n', '##d'): 0.06818181818181818, ('##d', '##e'): 0.011904761904761904, ('##s', '##t'): 0.014285714285714285, ('##t', '##a'): 0.02040816326530612, ('##a', '##n'): 0.012987012987012988, ('h', '##o'): 0.07692307692307693, ('##e', '##y'): 0.023809523809523808, ('a', '##r'): 0.022222222222222223, ('##r', '##e'): 0.005291005291005291, ('t', '##r'): 0.015873015873015872, ('##a', '##i'): 0.012987012987012988, ('##n', '##e'): 0.008658008658008658, ('##e', '##d'): 0.011904761904761904, ('a', '##n'): 0.01818181818181818, ('g', '##e'): 0.047619047619047616, ('##n', '##s'): 0.00909090909090909}\n"
     ]
    }
   ],
   "source": [
    "def _compute_pair2score(word2splits, word2count):\n",
    "    \"\"\"\n",
    "    计算每个pair的分数\n",
    "    score=(freq_of_pair)/(freq_of_first_element×freq_of_second_element)\n",
    "    :return:\n",
    "    \"\"\"\n",
    "    vocab2count = defaultdict(int)\n",
    "    pair2count = defaultdict(int)\n",
    "    for word, word_count in word2count.items():\n",
    "        splits = word2splits[word]\n",
    "        if len(splits) == 1:\n",
    "            vocab2count[splits[0]] += word_count\n",
    "            continue\n",
    "        for i in range(len(splits) - 1):\n",
    "            pair = (splits[i], splits[i + 1])\n",
    "            vocab2count[splits[i]] += word_count\n",
    "            pair2count[pair] += word_count\n",
    "        vocab2count[splits[-1]] += word_count\n",
    "    scores = {\n",
    "        pair: freq / (vocab2count[pair[0]] * vocab2count[pair[1]])\n",
    "        for pair, freq in pair2count.items()\n",
    "    }\n",
    "    return scores\n",
    "pair2score =_compute_pair2score(word2splits, word2count)\n",
    "print(pair2score)"
   ]
  },
  {
   "cell_type": "code",
   "execution_count": 60,
   "metadata": {
    "metadata": {}
   },
   "outputs": [
    {
     "name": "stdout",
     "output_type": "stream",
     "text": [
      "('a', '##b')\n"
     ]
    }
   ],
   "source": [
    "def _compute_most_score_pair(pair2score):\n",
    "    best_pair = None\n",
    "    max_score = None\n",
    "    for pair, score in pair2score.items():\n",
    "        if max_score is None or max_score < score:\n",
    "            best_pair = pair\n",
    "            max_score = score\n",
    "    return best_pair\n",
    "best_pair = _compute_most_score_pair(pair2score)\n",
    "print(best_pair)"
   ]
  },
  {
   "cell_type": "code",
   "execution_count": 61,
   "metadata": {
    "metadata": {}
   },
   "outputs": [
    {
     "name": "stdout",
     "output_type": "stream",
     "text": [
      "['h', ',', '##p', '##f', '##m', '##t', '##b', 's', 'F', 'i', '##z', 't', '.', 'c', 'y', 'b', '##c', '##k', 'T', '##y', '##s', 'C', '##v', 'g', 'a', '##e', '##o', 'H', '##n', '##g', '##h', '##i', '##w', '##d', '##r', 'u', '##u', '##l', 'w', '##a', 'a##b']\n"
     ]
    }
   ],
   "source": [
    "best_pair = _compute_most_score_pair(pair2score)\n",
    "vocabs.append(best_pair[0] + best_pair[1])\n",
    "print(vocabs)"
   ]
  },
  {
   "cell_type": "code",
   "execution_count": 62,
   "metadata": {
    "metadata": {}
   },
   "outputs": [
    {
     "name": "stdout",
     "output_type": "stream",
     "text": [
      "{'This': ['T', '##h', '##i', '##s'], 'is': ['i', '##s'], 'the': ['t', '##h', '##e'], 'Hugging': ['H', '##u', '##g', '##g', '##i', '##n', '##g'], 'Face': ['F', '##a', '##c', '##e'], 'Course': ['C', '##o', '##u', '##r', '##s', '##e'], '.': ['.'], 'chapter': ['c', '##h', '##a', '##p', '##t', '##e', '##r'], 'about': ['ab', '##o', '##u', '##t'], 'tokenization': ['t', '##o', '##k', '##e', '##n', '##i', '##z', '##a', '##t', '##i', '##o', '##n'], 'section': ['s', '##e', '##c', '##t', '##i', '##o', '##n'], 'shows': ['s', '##h', '##o', '##w', '##s'], 'several': ['s', '##e', '##v', '##e', '##r', '##a', '##l'], 'tokenizer': ['t', '##o', '##k', '##e', '##n', '##i', '##z', '##e', '##r'], 'algorithms': ['a', '##l', '##g', '##o', '##r', '##i', '##t', '##h', '##m', '##s'], 'Hopefully': ['H', '##o', '##p', '##e', '##f', '##u', '##l', '##l', '##y'], ',': [','], 'you': ['y', '##o', '##u'], 'will': ['w', '##i', '##l', '##l'], 'be': ['b', '##e'], 'able': ['ab', '##l', '##e'], 'to': ['t', '##o'], 'understand': ['u', '##n', '##d', '##e', '##r', '##s', '##t', '##a', '##n', '##d'], 'how': ['h', '##o', '##w'], 'they': ['t', '##h', '##e', '##y'], 'are': ['a', '##r', '##e'], 'trained': ['t', '##r', '##a', '##i', '##n', '##e', '##d'], 'and': ['a', '##n', '##d'], 'generate': ['g', '##e', '##n', '##e', '##r', '##a', '##t', '##e'], 'tokens': ['t', '##o', '##k', '##e', '##n', '##s']}\n"
     ]
    }
   ],
   "source": [
    "def _merge_pair(a, b, word2splits):\n",
    "    new_word2splits = dict()\n",
    "    for word, split in word2splits.items():\n",
    "        if len(split) == 1:\n",
    "            new_word2splits[word] = split\n",
    "            continue\n",
    "        i = 0\n",
    "        while i < len(split) - 1:\n",
    "            if split[i] == a and split[i + 1] == b:\n",
    "                merge = a + b[2:] if b.startswith(\"##\") else a + b\n",
    "                split = split[:i] + [merge] + split[i + 2:]\n",
    "            else:\n",
    "                i += 1\n",
    "        new_word2splits[word] = split\n",
    "    return new_word2splits\n",
    "\n",
    "word2splits = _merge_pair(best_pair[0], best_pair[1], word2splits)\n",
    "print(word2splits)"
   ]
  },
  {
   "cell_type": "code",
   "execution_count": 63,
   "metadata": {
    "metadata": {}
   },
   "outputs": [
    {
     "name": "stdout",
     "output_type": "stream",
     "text": [
      "['h', ',', '##p', '##f', '##m', '##t', '##b', 's', 'F', 'i', '##z', 't', '.', 'c', 'y', 'b', '##c', '##k', 'T', '##y', '##s', 'C', '##v', 'g', 'a', '##e', '##o', 'H', '##n', '##g', '##h', '##i', '##w', '##d', '##r', 'u', '##u', '##l', 'w', '##a', 'a##b', '##fu', 'Fa', 'Fac', '##ct', '##ful', '##full', '##fully', 'Th', 'ch']\n"
     ]
    }
   ],
   "source": [
    "while len(vocabs) < vocab_size:\n",
    "    pair2score = _compute_pair2score(word2splits, word2count)\n",
    "    best_pair = _compute_most_score_pair(pair2score)\n",
    "    word2splits = _merge_pair(best_pair[0], best_pair[1], word2splits)\n",
    "    new_token = best_pair[0] + best_pair[1][2:] if best_pair[1].startswith('##') else best_pair[1]\n",
    "    vocabs.append(new_token)\n",
    "print(vocabs)"
   ]
  },
  {
   "cell_type": "code",
   "execution_count": 64,
   "metadata": {
    "metadata": {}
   },
   "outputs": [
    {
     "data": {
      "text/plain": [
       "['Th',\n",
       " '##i',\n",
       " '##s',\n",
       " 'i',\n",
       " '##s',\n",
       " 't',\n",
       " '##h',\n",
       " '##e',\n",
       " 'H',\n",
       " '##u',\n",
       " '##g',\n",
       " '##g',\n",
       " '##i',\n",
       " '##n',\n",
       " '##g',\n",
       " 'Fac',\n",
       " '##e',\n",
       " 'c',\n",
       " '##o',\n",
       " '##u',\n",
       " '##r',\n",
       " '##s',\n",
       " '##e',\n",
       " '[UNK]']"
      ]
     },
     "execution_count": 64,
     "metadata": {},
     "output_type": "execute_result"
    }
   ],
   "source": [
    "def _encode_word(word):\n",
    "    tokens = []\n",
    "    while len(word) > 0:\n",
    "        i = len(word)\n",
    "        while i > 0 and word[:i] not in vocabs:\n",
    "            i -= 1\n",
    "        if i == 0:\n",
    "            return [\"[UNK]\"]\n",
    "        tokens.append(word[:i])\n",
    "        word = word[i:]\n",
    "        if len(word) > 0:\n",
    "            word = f\"##{word}\"\n",
    "    return tokens\n",
    "\n",
    "def tokenize(text):\n",
    "    words = [word for word, _ in pre_tokenize_function(text)]\n",
    "    encoded_words = [_encode_word(word) for word in words]\n",
    "    return sum(encoded_words, [])\n",
    "\n",
    "tokenize(\"This is the Hugging Face course!\")"
   ]
  },
  {
   "cell_type": "markdown",
   "metadata": {},
   "source": [
    "## 5. Unigram"
   ]
  },
  {
   "cell_type": "code",
   "execution_count": 65,
   "metadata": {
    "metadata": {}
   },
   "outputs": [],
   "source": [
    "corpus = [\n",
    "    \"This is the Hugging Face Course.\",\n",
    "    \"This chapter is about tokenization.\",\n",
    "    \"This section shows several tokenizer algorithms.\",\n",
    "    \"Hopefully, you will be able to understand how they are trained and generate tokens.\",\n",
    "]"
   ]
  },
  {
   "cell_type": "code",
   "execution_count": 66,
   "metadata": {
    "metadata": {}
   },
   "outputs": [
    {
     "name": "stdout",
     "output_type": "stream",
     "text": [
      "[[('▁This', (0, 4)), ('▁is', (5, 7)), ('▁the', (8, 11)), ('▁Hugging', (12, 19)), ('▁Face', (20, 24)), ('▁Course.', (25, 32))], [('▁This', (0, 4)), ('▁chapter', (5, 12)), ('▁is', (13, 15)), ('▁about', (16, 21)), ('▁tokenization.', (22, 35))], [('▁This', (0, 4)), ('▁section', (5, 12)), ('▁shows', (13, 18)), ('▁several', (19, 26)), ('▁tokenizer', (27, 36)), ('▁algorithms.', (37, 48))], [('▁Hopefully,', (0, 10)), ('▁you', (11, 14)), ('▁will', (15, 19)), ('▁be', (20, 22)), ('▁able', (23, 27)), ('▁to', (28, 30)), ('▁understand', (31, 41)), ('▁how', (42, 45)), ('▁they', (46, 50)), ('▁are', (51, 54)), ('▁trained', (55, 62)), ('▁and', (63, 66)), ('▁generate', (67, 75)), ('▁tokens.', (76, 83))]]\n"
     ]
    }
   ],
   "source": [
    "from transformers import AutoTokenizer\n",
    "\n",
    "# init pre tokenize function\n",
    "xlnet_tokenizer = AutoTokenizer.from_pretrained(\"xlnet-base-cased\")\n",
    "pre_tokenize_function = xlnet_tokenizer.backend_tokenizer.pre_tokenizer.pre_tokenize_str\n",
    "\n",
    "# pre tokenize\n",
    "pre_tokenized_corpus = [pre_tokenize_function(text) for text in corpus]\n",
    "print(pre_tokenized_corpus)"
   ]
  },
  {
   "cell_type": "code",
   "execution_count": 67,
   "metadata": {
    "metadata": {}
   },
   "outputs": [
    {
     "name": "stdout",
     "output_type": "stream",
     "text": [
      "defaultdict(<class 'int'>, {'▁This': 3, '▁is': 2, '▁the': 1, '▁Hugging': 1, '▁Face': 1, '▁Course.': 1, '▁chapter': 1, '▁about': 1, '▁tokenization.': 1, '▁section': 1, '▁shows': 1, '▁several': 1, '▁tokenizer': 1, '▁algorithms.': 1, '▁Hopefully,': 1, '▁you': 1, '▁will': 1, '▁be': 1, '▁able': 1, '▁to': 1, '▁understand': 1, '▁how': 1, '▁they': 1, '▁are': 1, '▁trained': 1, '▁and': 1, '▁generate': 1, '▁tokens.': 1})\n"
     ]
    }
   ],
   "source": [
    "word2count = defaultdict(int)\n",
    "for split_text in pre_tokenized_corpus:\n",
    "    for word, _ in split_text:\n",
    "        word2count[word] += 1\n",
    "print(word2count)"
   ]
  },
  {
   "cell_type": "code",
   "execution_count": 68,
   "metadata": {
    "metadata": {}
   },
   "outputs": [],
   "source": [
    "char2count = defaultdict(int)\n",
    "sub_word2count = defaultdict(int)\n",
    "for word, count in word2count.items():\n",
    "    for i in range(len(word)):\n",
    "        char2count[word[i]] += count\n",
    "        for j in range(i + 2, len(word) + 1):\n",
    "            sub_word2count[word[i:j]] += count\n",
    "sorted_sub_words = sorted(sub_word2count.items(), key=lambda x: x[1], reverse=True)\n",
    "# init a large vocab with 300\n",
    "list(char2count.items()) + sorted_sub_words[: 300 - len(char2count)]\n",
    "tokens = list(char2count.items()) + sorted_sub_words[: 300 - len(char2count)]"
   ]
  },
  {
   "cell_type": "code",
   "execution_count": 69,
   "metadata": {
    "metadata": {}
   },
   "outputs": [
    {
     "data": {
      "text/plain": [
       "{'▁': 2.952892114877499,\n",
       " 'T': 5.288267030694535,\n",
       " 'h': 4.189654742026425,\n",
       " 'i': 3.821929961901108,\n",
       " 's': 3.821929961901108,\n",
       " 't': 3.7478219897473863,\n",
       " 'e': 3.342356881639222,\n",
       " 'H': 5.6937321388027,\n",
       " 'u': 4.59511985013459,\n",
       " 'g': 4.777441406928545,\n",
       " 'n': 3.9889840465642745,\n",
       " 'F': 6.386879319362645,\n",
       " 'a': 3.9019726695746444,\n",
       " 'c': 5.288267030694535,\n",
       " 'C': 6.386879319362645,\n",
       " 'o': 3.821929961901108,\n",
       " 'r': 4.189654742026425,\n",
       " '.': 5.000584958242754,\n",
       " 'p': 5.6937321388027,\n",
       " 'b': 5.288267030694535,\n",
       " 'k': 5.288267030694535,\n",
       " 'z': 5.6937321388027,\n",
       " 'w': 5.288267030694535,\n",
       " 'v': 6.386879319362645,\n",
       " 'l': 4.440969170307332,\n",
       " 'm': 6.386879319362645,\n",
       " 'f': 6.386879319362645,\n",
       " 'y': 5.288267030694535,\n",
       " ',': 6.386879319362645,\n",
       " 'd': 5.000584958242754,\n",
       " '▁t': 4.440969170307332,\n",
       " 'is': 4.777441406928545,\n",
       " 'er': 4.777441406928545,\n",
       " '▁a': 4.777441406928545,\n",
       " '▁to': 5.000584958242754,\n",
       " 'to': 5.000584958242754,\n",
       " 'en': 5.000584958242754,\n",
       " '▁T': 5.288267030694535,\n",
       " '▁Th': 5.288267030694535,\n",
       " '▁Thi': 5.288267030694535,\n",
       " '▁This': 5.288267030694535,\n",
       " 'Th': 5.288267030694535,\n",
       " 'Thi': 5.288267030694535,\n",
       " 'This': 5.288267030694535,\n",
       " 'hi': 5.288267030694535,\n",
       " 'his': 5.288267030694535,\n",
       " 'th': 5.288267030694535,\n",
       " 'ou': 5.288267030694535,\n",
       " 'se': 5.288267030694535,\n",
       " '▁tok': 5.288267030694535,\n",
       " '▁toke': 5.288267030694535,\n",
       " '▁token': 5.288267030694535,\n",
       " 'tok': 5.288267030694535,\n",
       " 'toke': 5.288267030694535,\n",
       " 'token': 5.288267030694535,\n",
       " 'ok': 5.288267030694535,\n",
       " 'oke': 5.288267030694535,\n",
       " 'oken': 5.288267030694535,\n",
       " 'ke': 5.288267030694535,\n",
       " 'ken': 5.288267030694535,\n",
       " '▁s': 5.288267030694535,\n",
       " 'ra': 5.288267030694535,\n",
       " 'nd': 5.288267030694535,\n",
       " '▁i': 5.6937321388027,\n",
       " '▁is': 5.6937321388027,\n",
       " '▁th': 5.6937321388027,\n",
       " '▁the': 5.6937321388027,\n",
       " 'the': 5.6937321388027,\n",
       " 'he': 5.6937321388027,\n",
       " '▁H': 5.6937321388027,\n",
       " 'in': 5.6937321388027,\n",
       " 'rs': 5.6937321388027,\n",
       " 'te': 5.6937321388027,\n",
       " '▁ab': 5.6937321388027,\n",
       " 'ab': 5.6937321388027,\n",
       " '▁tokeni': 5.6937321388027,\n",
       " '▁tokeniz': 5.6937321388027,\n",
       " 'tokeni': 5.6937321388027,\n",
       " 'tokeniz': 5.6937321388027,\n",
       " 'okeni': 5.6937321388027,\n",
       " 'okeniz': 5.6937321388027,\n",
       " 'keni': 5.6937321388027,\n",
       " 'keniz': 5.6937321388027,\n",
       " 'eni': 5.6937321388027,\n",
       " 'eniz': 5.6937321388027,\n",
       " 'ni': 5.6937321388027,\n",
       " 'niz': 5.6937321388027,\n",
       " 'iz': 5.6937321388027,\n",
       " 'at': 5.6937321388027,\n",
       " 'ti': 5.6937321388027,\n",
       " 'tio': 5.6937321388027,\n",
       " 'tion': 5.6937321388027,\n",
       " 'io': 5.6937321388027,\n",
       " 'ion': 5.6937321388027,\n",
       " 'on': 5.6937321388027,\n",
       " '▁se': 5.6937321388027,\n",
       " 'ho': 5.6937321388027,\n",
       " 'how': 5.6937321388027,\n",
       " 'ow': 5.6937321388027,\n",
       " 'era': 5.6937321388027,\n",
       " 'al': 5.6937321388027,\n",
       " 's.': 5.6937321388027,\n",
       " 'll': 5.6937321388027,\n",
       " 'an': 5.6937321388027,\n",
       " 'and': 5.6937321388027,\n",
       " 'ne': 5.6937321388027,\n",
       " '▁Hu': 6.386879319362645,\n",
       " '▁Hug': 6.386879319362645,\n",
       " '▁Hugg': 6.386879319362645,\n",
       " '▁Huggi': 6.386879319362645,\n",
       " '▁Huggin': 6.386879319362645,\n",
       " '▁Hugging': 6.386879319362645,\n",
       " 'Hu': 6.386879319362645,\n",
       " 'Hug': 6.386879319362645,\n",
       " 'Hugg': 6.386879319362645,\n",
       " 'Huggi': 6.386879319362645,\n",
       " 'Huggin': 6.386879319362645,\n",
       " 'Hugging': 6.386879319362645,\n",
       " 'ug': 6.386879319362645,\n",
       " 'ugg': 6.386879319362645,\n",
       " 'uggi': 6.386879319362645,\n",
       " 'uggin': 6.386879319362645,\n",
       " 'ugging': 6.386879319362645,\n",
       " 'gg': 6.386879319362645,\n",
       " 'ggi': 6.386879319362645,\n",
       " 'ggin': 6.386879319362645,\n",
       " 'gging': 6.386879319362645,\n",
       " 'gi': 6.386879319362645,\n",
       " 'gin': 6.386879319362645,\n",
       " 'ging': 6.386879319362645,\n",
       " 'ing': 6.386879319362645,\n",
       " 'ng': 6.386879319362645,\n",
       " '▁F': 6.386879319362645,\n",
       " '▁Fa': 6.386879319362645,\n",
       " '▁Fac': 6.386879319362645,\n",
       " '▁Face': 6.386879319362645,\n",
       " 'Fa': 6.386879319362645,\n",
       " 'Fac': 6.386879319362645,\n",
       " 'Face': 6.386879319362645,\n",
       " 'ac': 6.386879319362645,\n",
       " 'ace': 6.386879319362645,\n",
       " 'ce': 6.386879319362645,\n",
       " '▁C': 6.386879319362645,\n",
       " '▁Co': 6.386879319362645,\n",
       " '▁Cou': 6.386879319362645,\n",
       " '▁Cour': 6.386879319362645,\n",
       " '▁Cours': 6.386879319362645,\n",
       " '▁Course': 6.386879319362645,\n",
       " '▁Course.': 6.386879319362645,\n",
       " 'Co': 6.386879319362645,\n",
       " 'Cou': 6.386879319362645,\n",
       " 'Cour': 6.386879319362645,\n",
       " 'Cours': 6.386879319362645,\n",
       " 'Course': 6.386879319362645,\n",
       " 'Course.': 6.386879319362645,\n",
       " 'our': 6.386879319362645,\n",
       " 'ours': 6.386879319362645,\n",
       " 'ourse': 6.386879319362645,\n",
       " 'ourse.': 6.386879319362645,\n",
       " 'ur': 6.386879319362645,\n",
       " 'urs': 6.386879319362645,\n",
       " 'urse': 6.386879319362645,\n",
       " 'urse.': 6.386879319362645,\n",
       " 'rse': 6.386879319362645,\n",
       " 'rse.': 6.386879319362645,\n",
       " 'se.': 6.386879319362645,\n",
       " 'e.': 6.386879319362645,\n",
       " '▁c': 6.386879319362645,\n",
       " '▁ch': 6.386879319362645,\n",
       " '▁cha': 6.386879319362645,\n",
       " '▁chap': 6.386879319362645,\n",
       " '▁chapt': 6.386879319362645,\n",
       " '▁chapte': 6.386879319362645,\n",
       " '▁chapter': 6.386879319362645,\n",
       " 'ch': 6.386879319362645,\n",
       " 'cha': 6.386879319362645,\n",
       " 'chap': 6.386879319362645,\n",
       " 'chapt': 6.386879319362645,\n",
       " 'chapte': 6.386879319362645,\n",
       " 'chapter': 6.386879319362645,\n",
       " 'ha': 6.386879319362645,\n",
       " 'hap': 6.386879319362645,\n",
       " 'hapt': 6.386879319362645,\n",
       " 'hapte': 6.386879319362645,\n",
       " 'hapter': 6.386879319362645,\n",
       " 'ap': 6.386879319362645,\n",
       " 'apt': 6.386879319362645,\n",
       " 'apte': 6.386879319362645,\n",
       " 'apter': 6.386879319362645,\n",
       " 'pt': 6.386879319362645,\n",
       " 'pte': 6.386879319362645,\n",
       " 'pter': 6.386879319362645,\n",
       " 'ter': 6.386879319362645,\n",
       " '▁abo': 6.386879319362645,\n",
       " '▁abou': 6.386879319362645,\n",
       " '▁about': 6.386879319362645,\n",
       " 'abo': 6.386879319362645,\n",
       " 'abou': 6.386879319362645,\n",
       " 'about': 6.386879319362645,\n",
       " 'bo': 6.386879319362645,\n",
       " 'bou': 6.386879319362645,\n",
       " 'bout': 6.386879319362645,\n",
       " 'out': 6.386879319362645,\n",
       " 'ut': 6.386879319362645,\n",
       " '▁tokeniza': 6.386879319362645,\n",
       " '▁tokenizat': 6.386879319362645,\n",
       " '▁tokenizati': 6.386879319362645,\n",
       " '▁tokenizatio': 6.386879319362645,\n",
       " '▁tokenization': 6.386879319362645,\n",
       " '▁tokenization.': 6.386879319362645,\n",
       " 'tokeniza': 6.386879319362645,\n",
       " 'tokenizat': 6.386879319362645,\n",
       " 'tokenizati': 6.386879319362645,\n",
       " 'tokenizatio': 6.386879319362645,\n",
       " 'tokenization': 6.386879319362645,\n",
       " 'tokenization.': 6.386879319362645,\n",
       " 'okeniza': 6.386879319362645,\n",
       " 'okenizat': 6.386879319362645,\n",
       " 'okenizati': 6.386879319362645,\n",
       " 'okenizatio': 6.386879319362645,\n",
       " 'okenization': 6.386879319362645,\n",
       " 'okenization.': 6.386879319362645,\n",
       " 'keniza': 6.386879319362645,\n",
       " 'kenizat': 6.386879319362645,\n",
       " 'kenizati': 6.386879319362645,\n",
       " 'kenizatio': 6.386879319362645,\n",
       " 'kenization': 6.386879319362645,\n",
       " 'kenization.': 6.386879319362645,\n",
       " 'eniza': 6.386879319362645,\n",
       " 'enizat': 6.386879319362645,\n",
       " 'enizati': 6.386879319362645,\n",
       " 'enizatio': 6.386879319362645,\n",
       " 'enization': 6.386879319362645,\n",
       " 'enization.': 6.386879319362645,\n",
       " 'niza': 6.386879319362645,\n",
       " 'nizat': 6.386879319362645,\n",
       " 'nizati': 6.386879319362645,\n",
       " 'nizatio': 6.386879319362645,\n",
       " 'nization': 6.386879319362645,\n",
       " 'nization.': 6.386879319362645,\n",
       " 'iza': 6.386879319362645,\n",
       " 'izat': 6.386879319362645,\n",
       " 'izati': 6.386879319362645,\n",
       " 'izatio': 6.386879319362645,\n",
       " 'ization': 6.386879319362645,\n",
       " 'ization.': 6.386879319362645,\n",
       " 'za': 6.386879319362645,\n",
       " 'zat': 6.386879319362645,\n",
       " 'zati': 6.386879319362645,\n",
       " 'zatio': 6.386879319362645,\n",
       " 'zation': 6.386879319362645,\n",
       " 'zation.': 6.386879319362645,\n",
       " 'ati': 6.386879319362645,\n",
       " 'atio': 6.386879319362645,\n",
       " 'ation': 6.386879319362645,\n",
       " 'ation.': 6.386879319362645,\n",
       " 'tion.': 6.386879319362645,\n",
       " 'ion.': 6.386879319362645,\n",
       " 'on.': 6.386879319362645,\n",
       " 'n.': 6.386879319362645,\n",
       " '▁sec': 6.386879319362645,\n",
       " '▁sect': 6.386879319362645,\n",
       " '▁secti': 6.386879319362645,\n",
       " '▁sectio': 6.386879319362645,\n",
       " '▁section': 6.386879319362645,\n",
       " 'sec': 6.386879319362645,\n",
       " 'sect': 6.386879319362645,\n",
       " 'secti': 6.386879319362645,\n",
       " 'sectio': 6.386879319362645,\n",
       " 'section': 6.386879319362645,\n",
       " 'ec': 6.386879319362645,\n",
       " 'ect': 6.386879319362645,\n",
       " 'ecti': 6.386879319362645,\n",
       " 'ectio': 6.386879319362645,\n",
       " 'ection': 6.386879319362645,\n",
       " 'ct': 6.386879319362645,\n",
       " 'cti': 6.386879319362645,\n",
       " 'ctio': 6.386879319362645,\n",
       " 'ction': 6.386879319362645,\n",
       " '▁sh': 6.386879319362645,\n",
       " '▁sho': 6.386879319362645,\n",
       " '▁show': 6.386879319362645,\n",
       " '▁shows': 6.386879319362645,\n",
       " 'sh': 6.386879319362645,\n",
       " 'sho': 6.386879319362645,\n",
       " 'show': 6.386879319362645,\n",
       " 'shows': 6.386879319362645,\n",
       " 'hows': 6.386879319362645,\n",
       " 'ows': 6.386879319362645,\n",
       " 'ws': 6.386879319362645,\n",
       " '▁sev': 6.386879319362645,\n",
       " '▁seve': 6.386879319362645,\n",
       " '▁sever': 6.386879319362645,\n",
       " '▁severa': 6.386879319362645,\n",
       " '▁several': 6.386879319362645,\n",
       " 'sev': 6.386879319362645,\n",
       " 'seve': 6.386879319362645,\n",
       " 'sever': 6.386879319362645,\n",
       " 'severa': 6.386879319362645,\n",
       " 'several': 6.386879319362645}"
      ]
     },
     "execution_count": 69,
     "metadata": {},
     "output_type": "execute_result"
    }
   ],
   "source": [
    "import numpy as np\n",
    "token2count = {token: count for token, count in tokens}\n",
    "total_count = sum([count for token, count in token2count.items()])\n",
    "model = {token: -np.log(count / total_count) for token, count in token2count.items()}\n",
    "{token: -np.log(count / total_count) for token, count in token2count.items()}\n",
    "\n"
   ]
  },
  {
   "cell_type": "code",
   "execution_count": 70,
   "metadata": {
    "metadata": {}
   },
   "outputs": [],
   "source": [
    "def _encode_word(word, model):\n",
    "    best_segmentations = [{\"start\": 0, \"score\": 1}] + [{\"start\": None, \"score\": None} for _ in range(len(word))]\n",
    "    for start_idx in range(len(word)):\n",
    "        # This should be properly filled by the previous steps of the loop\n",
    "        best_score_at_start = best_segmentations[start_idx][\"score\"]\n",
    "        for end_idx in range(start_idx + 1, len(word) + 1):\n",
    "            token = word[start_idx:end_idx]\n",
    "            if token in model and best_score_at_start is not None:\n",
    "                score = model[token] + best_score_at_start\n",
    "                # If we have found a better segmentation (lower score) ending at end_idx\n",
    "                if (\n",
    "                        best_segmentations[end_idx][\"score\"] is None\n",
    "                        or best_segmentations[end_idx][\"score\"] > score\n",
    "                ):\n",
    "                    best_segmentations[end_idx] = {\"start\": start_idx, \"score\": score}\n",
    "    segmentation = best_segmentations[-1]\n",
    "    if segmentation[\"score\"] is None:\n",
    "        # We did not find a tokenization of the word -> unknown\n",
    "        return [\"<unk>\"], None\n",
    "    score = segmentation[\"score\"]\n",
    "    start = segmentation[\"start\"]\n",
    "    end = len(word)\n",
    "    tokens = []\n",
    "    while start != 0:\n",
    "        tokens.insert(0, word[start:end])\n",
    "        next_start = best_segmentations[start][\"start\"]\n",
    "        end = start\n",
    "        start = next_start\n",
    "    tokens.insert(0, word[start:end])\n",
    "    return tokens, score"
   ]
  },
  {
   "cell_type": "code",
   "execution_count": 71,
   "metadata": {
    "metadata": {}
   },
   "outputs": [],
   "source": [
    "def _compute_loss(model, word2count):\n",
    "    loss = 0\n",
    "    for word, freq in word2count.items():\n",
    "        _, word_loss = _encode_word(word, model)\n",
    "        loss += freq * word_loss\n",
    "    return loss"
   ]
  },
  {
   "cell_type": "code",
   "execution_count": 72,
   "metadata": {
    "metadata": {}
   },
   "outputs": [
    {
     "data": {
      "text/plain": [
       "{'▁t': 2.2597449343175526,\n",
       " 'is': 0.0,\n",
       " 'er': 3.1912878683493204,\n",
       " '▁a': 2.077423377523644,\n",
       " '▁to': 2.9528921148775,\n",
       " 'to': 0.0,\n",
       " 'en': 2.3307559699607054,\n",
       " '▁T': 0.0,\n",
       " '▁Th': 0.0,\n",
       " '▁Thi': 0.0,\n",
       " '▁This': 8.858676344632443,\n",
       " 'Th': 0.0,\n",
       " 'Thi': 0.0,\n",
       " 'This': 0.0,\n",
       " 'hi': 0.0,\n",
       " 'his': 0.0,\n",
       " 'th': 2.649209701079201,\n",
       " 'ou': 3.128782781341158,\n",
       " 'se': 0.0,\n",
       " '▁tok': 0.0,\n",
       " '▁toke': 0.0,\n",
       " '▁token': 2.9528921148775,\n",
       " 'tok': 0.0,\n",
       " 'toke': 0.0,\n",
       " 'token': 0.0,\n",
       " 'ok': 0.0,\n",
       " 'oke': 0.0,\n",
       " 'oken': 0.0,\n",
       " 'ke': 0.0,\n",
       " 'ken': 0.0,\n",
       " '▁s': 0.0,\n",
       " 'ra': 2.803360380906497,\n",
       " 'nd': 3.701301974112482,\n",
       " '▁i': 0.0,\n",
       " '▁is': 4.073202766006659,\n",
       " '▁th': 0.0,\n",
       " '▁the': 5.905784229754943,\n",
       " 'the': 0.0,\n",
       " 'he': 0.0,\n",
       " '▁H': 2.952892114877443,\n",
       " 'in': 0.4795730802619005,\n",
       " 'rs': 0.0,\n",
       " 'te': 1.396446732583911,\n",
       " '▁ab': 2.9528921148775,\n",
       " 'ab': 0.0,\n",
       " '▁tokeni': 0.0,\n",
       " '▁tokeniz': 2.952892114877443,\n",
       " 'tokeni': 0.0,\n",
       " 'tokeniz': 0.0,\n",
       " 'okeni': 0.0,\n",
       " 'okeniz': 0.0,\n",
       " 'keni': 0.0,\n",
       " 'keniz': 0.0,\n",
       " 'eni': 0.0,\n",
       " 'eniz': 0.0,\n",
       " 'ni': 0.0,\n",
       " 'niz': 0.0,\n",
       " 'iz': 0.0,\n",
       " 'at': 0.0,\n",
       " 'ti': 0.0,\n",
       " 'tio': 0.0,\n",
       " 'tion': 0.0,\n",
       " 'io': 0.0,\n",
       " 'ion': 0.0,\n",
       " 'on': 0.0,\n",
       " '▁se': 0.0,\n",
       " 'ho': 0.0,\n",
       " 'how': 4.189654742026391,\n",
       " 'ow': 0.0,\n",
       " 'era': 2.426066149765063,\n",
       " 'al': 0.5717863235556706,\n",
       " 's.': 6.2575655626822595,\n",
       " 'll': 6.376412403623874,\n",
       " 'an': 0.0,\n",
       " 'and': 4.915591745409358,\n",
       " 'ne': 0.0,\n",
       " '▁Hu': 0.0,\n",
       " '▁Hug': 0.0,\n",
       " '▁Hugg': 0.0,\n",
       " '▁Huggi': 0.0,\n",
       " '▁Huggin': 0.0,\n",
       " '▁Hugging': 2.952892114877443,\n",
       " 'Hu': 0.0,\n",
       " 'Hug': 0.0,\n",
       " 'Hugg': 0.0,\n",
       " 'Huggi': 0.0,\n",
       " 'Huggin': 0.0,\n",
       " 'Hugging': 0.0,\n",
       " 'ug': 0.0,\n",
       " 'ugg': 0.0,\n",
       " 'uggi': 0.0,\n",
       " 'uggin': 0.0,\n",
       " 'ugging': 0.0,\n",
       " 'gg': 0.0,\n",
       " 'ggi': 0.0,\n",
       " 'ggin': 0.0,\n",
       " 'gging': 0.0,\n",
       " 'gi': 0.0,\n",
       " 'gin': 0.0,\n",
       " 'ging': 0.0,\n",
       " 'ing': 0.0,\n",
       " 'ng': 0.0,\n",
       " '▁F': 0.0,\n",
       " '▁Fa': 0.0,\n",
       " '▁Fac': 0.0,\n",
       " '▁Face': 2.952892114877443,\n",
       " 'Fa': 0.0,\n",
       " 'Fac': 0.0,\n",
       " 'Face': 0.0,\n",
       " 'ac': 0.0,\n",
       " 'ace': 0.0,\n",
       " 'ce': 0.0,\n",
       " '▁C': 0.0,\n",
       " '▁Co': 0.0,\n",
       " '▁Cou': 0.0,\n",
       " '▁Cour': 0.0,\n",
       " '▁Cours': 0.0,\n",
       " '▁Course': 0.0,\n",
       " '▁Course.': 2.952892114877443,\n",
       " 'Co': 0.0,\n",
       " 'Cou': 0.0,\n",
       " 'Cour': 0.0,\n",
       " 'Cours': 0.0,\n",
       " 'Course': 0.0,\n",
       " 'Course.': 0.0,\n",
       " 'our': 0.0,\n",
       " 'ours': 0.0,\n",
       " 'ourse': 0.0,\n",
       " 'ourse.': 0.0,\n",
       " 'ur': 0.0,\n",
       " 'urs': 0.0,\n",
       " 'urse': 0.0,\n",
       " 'urse.': 0.0,\n",
       " 'rse': 0.0,\n",
       " 'rse.': 0.0,\n",
       " 'se.': 0.0,\n",
       " 'e.': 0.0,\n",
       " '▁c': 0.0,\n",
       " '▁ch': 0.0,\n",
       " '▁cha': 0.0,\n",
       " '▁chap': 0.0,\n",
       " '▁chapt': 0.0,\n",
       " '▁chapte': 0.0,\n",
       " '▁chapter': 2.952892114877443,\n",
       " 'ch': 0.0,\n",
       " 'cha': 0.0,\n",
       " 'chap': 0.0,\n",
       " 'chapt': 0.0,\n",
       " 'chapte': 0.0,\n",
       " 'chapter': 0.0,\n",
       " 'ha': 0.0,\n",
       " 'hap': 0.0,\n",
       " 'hapt': 0.0,\n",
       " 'hapte': 0.0,\n",
       " 'hapter': 0.0,\n",
       " 'ap': 0.0,\n",
       " 'apt': 0.0,\n",
       " 'apte': 0.0,\n",
       " 'apter': 0.0,\n",
       " 'pt': 0.0,\n",
       " 'pte': 0.0,\n",
       " 'pter': 0.0,\n",
       " 'ter': 0.0,\n",
       " '▁abo': 0.0,\n",
       " '▁abou': 0.0,\n",
       " '▁about': 2.952892114877443,\n",
       " 'abo': 0.0,\n",
       " 'abou': 0.0,\n",
       " 'about': 0.0,\n",
       " 'bo': 0.0,\n",
       " 'bou': 0.0,\n",
       " 'bout': 0.0,\n",
       " 'out': 0.0,\n",
       " 'ut': 0.0,\n",
       " '▁tokeniza': 0.0,\n",
       " '▁tokenizat': 0.0,\n",
       " '▁tokenizati': 0.0,\n",
       " '▁tokenizatio': 0.0,\n",
       " '▁tokenization': 0.0,\n",
       " '▁tokenization.': 2.952892114877443,\n",
       " 'tokeniza': 0.0,\n",
       " 'tokenizat': 0.0,\n",
       " 'tokenizati': 0.0,\n",
       " 'tokenizatio': 0.0,\n",
       " 'tokenization': 0.0,\n",
       " 'tokenization.': 0.0,\n",
       " 'okeniza': 0.0,\n",
       " 'okenizat': 0.0,\n",
       " 'okenizati': 0.0,\n",
       " 'okenizatio': 0.0,\n",
       " 'okenization': 0.0,\n",
       " 'okenization.': 0.0,\n",
       " 'keniza': 0.0,\n",
       " 'kenizat': 0.0,\n",
       " 'kenizati': 0.0,\n",
       " 'kenizatio': 0.0,\n",
       " 'kenization': 0.0,\n",
       " 'kenization.': 0.0,\n",
       " 'eniza': 0.0,\n",
       " 'enizat': 0.0,\n",
       " 'enizati': 0.0,\n",
       " 'enizatio': 0.0,\n",
       " 'enization': 0.0,\n",
       " 'enization.': 0.0,\n",
       " 'niza': 0.0,\n",
       " 'nizat': 0.0,\n",
       " 'nizati': 0.0,\n",
       " 'nizatio': 0.0,\n",
       " 'nization': 0.0,\n",
       " 'nization.': 0.0,\n",
       " 'iza': 0.0,\n",
       " 'izat': 0.0,\n",
       " 'izati': 0.0,\n",
       " 'izatio': 0.0,\n",
       " 'ization': 0.0,\n",
       " 'ization.': 0.0,\n",
       " 'za': 0.0,\n",
       " 'zat': 0.0,\n",
       " 'zati': 0.0,\n",
       " 'zatio': 0.0,\n",
       " 'zation': 0.0,\n",
       " 'zation.': 0.0,\n",
       " 'ati': 0.0,\n",
       " 'atio': 0.0,\n",
       " 'ation': 0.0,\n",
       " 'ation.': 0.0,\n",
       " 'tion.': 0.0,\n",
       " 'ion.': 0.0,\n",
       " 'on.': 0.0,\n",
       " 'n.': 0.0,\n",
       " '▁sec': 0.0,\n",
       " '▁sect': 0.0,\n",
       " '▁secti': 0.0,\n",
       " '▁sectio': 0.0,\n",
       " '▁section': 2.952892114877443,\n",
       " 'sec': 0.0,\n",
       " 'sect': 0.0,\n",
       " 'secti': 0.0,\n",
       " 'sectio': 0.0,\n",
       " 'section': 0.0,\n",
       " 'ec': 0.0,\n",
       " 'ect': 0.0,\n",
       " 'ecti': 0.0,\n",
       " 'ectio': 0.0,\n",
       " 'ection': 0.0,\n",
       " 'ct': 0.0,\n",
       " 'cti': 0.0,\n",
       " 'ctio': 0.0,\n",
       " 'ction': 0.0,\n",
       " '▁sh': 0.0,\n",
       " '▁sho': 0.0,\n",
       " '▁show': 0.0,\n",
       " '▁shows': 2.952892114877443,\n",
       " 'sh': 0.0,\n",
       " 'sho': 0.0,\n",
       " 'show': 0.0,\n",
       " 'shows': 0.0,\n",
       " 'hows': 0.0,\n",
       " 'ows': 0.0,\n",
       " 'ws': 0.0,\n",
       " '▁sev': 0.0,\n",
       " '▁seve': 0.0,\n",
       " '▁sever': 0.0,\n",
       " '▁severa': 0.0,\n",
       " '▁several': 2.952892114877443,\n",
       " 'sev': 0.0,\n",
       " 'seve': 0.0,\n",
       " 'sever': 0.0,\n",
       " 'severa': 0.0,\n",
       " 'several': 0.0}"
      ]
     },
     "execution_count": 72,
     "metadata": {},
     "output_type": "execute_result"
    }
   ],
   "source": [
    "import copy\n",
    "def _compute_scores(model, word2count):\n",
    "    scores = {}\n",
    "    model_loss = _compute_loss(model, word2count)\n",
    "    for token, score in model.items():\n",
    "        # We always keep tokens of length 1\n",
    "        if len(token) == 1:\n",
    "            continue\n",
    "        model_without_token = copy.deepcopy(model)\n",
    "        _ = model_without_token.pop(token)\n",
    "        scores[token] = _compute_loss(model_without_token, word2count) - model_loss\n",
    "    return scores\n",
    "\n",
    "scores = _compute_scores(model, word2count)\n",
    "_compute_scores(model, word2count)"
   ]
  },
  {
   "cell_type": "code",
   "execution_count": 73,
   "metadata": {
    "metadata": {}
   },
   "outputs": [],
   "source": [
    "# percent_to_remove=0.1\n",
    "# sorted_scores = sorted(scores.items(), key=lambda x: x[1])\n",
    "# # Remove percent_to_remove tokens with the lowest scores.\n",
    "# for i in range(int(len(model) * percent_to_remove)):\n",
    "#     _ = token2count.pop(sorted_scores[i][0])\n",
    "# # sorted_scores"
   ]
  },
  {
   "cell_type": "code",
   "execution_count": 74,
   "metadata": {
    "metadata": {}
   },
   "outputs": [
    {
     "data": {
      "text/plain": [
       "{'▁': 2.318585434340487,\n",
       " 'T': 4.653960350157523,\n",
       " 'h': 3.5553480614894135,\n",
       " 'i': 3.1876232813640963,\n",
       " 's': 3.1876232813640963,\n",
       " 't': 3.1135153092103742,\n",
       " 'e': 2.70805020110221,\n",
       " 'H': 5.059425458265688,\n",
       " 'u': 3.960813169597578,\n",
       " 'g': 4.143134726391533,\n",
       " 'n': 3.3546773660272624,\n",
       " 'F': 5.752572638825633,\n",
       " 'a': 3.2676659890376327,\n",
       " 'c': 4.653960350157523,\n",
       " 'C': 5.752572638825633,\n",
       " 'o': 3.1876232813640963,\n",
       " 'r': 3.5553480614894135,\n",
       " '.': 4.366278277705742,\n",
       " 'p': 5.059425458265688,\n",
       " 'b': 4.653960350157523,\n",
       " 'k': 4.653960350157523,\n",
       " 'z': 5.059425458265688,\n",
       " 'w': 4.653960350157523,\n",
       " 'v': 5.752572638825633,\n",
       " 'l': 3.8066624897703196,\n",
       " 'm': 5.752572638825633,\n",
       " 'f': 5.752572638825633,\n",
       " 'y': 4.653960350157523,\n",
       " ',': 5.752572638825633,\n",
       " 'd': 4.366278277705742,\n",
       " '▁t': 3.8066624897703196,\n",
       " 'er': 4.143134726391533,\n",
       " '▁a': 4.143134726391533,\n",
       " '▁to': 4.366278277705742,\n",
       " 'en': 4.366278277705742,\n",
       " '▁This': 4.653960350157523,\n",
       " 'th': 4.653960350157523,\n",
       " 'ou': 4.653960350157523,\n",
       " '▁token': 4.653960350157523,\n",
       " 'ra': 4.653960350157523,\n",
       " 'nd': 4.653960350157523,\n",
       " '▁is': 5.059425458265688,\n",
       " '▁the': 5.059425458265688,\n",
       " '▁H': 5.059425458265688,\n",
       " 'in': 5.059425458265688,\n",
       " 'te': 5.059425458265688,\n",
       " '▁ab': 5.059425458265688,\n",
       " '▁tokeniz': 5.059425458265688,\n",
       " 'how': 5.059425458265688,\n",
       " 'era': 5.059425458265688,\n",
       " 'al': 5.059425458265688,\n",
       " 's.': 5.059425458265688,\n",
       " 'll': 5.059425458265688,\n",
       " 'and': 5.059425458265688,\n",
       " '▁Hugging': 5.752572638825633,\n",
       " '▁Face': 5.752572638825633,\n",
       " '▁Course.': 5.752572638825633,\n",
       " '▁chapter': 5.752572638825633,\n",
       " '▁about': 5.752572638825633,\n",
       " '▁tokenization.': 5.752572638825633,\n",
       " '▁secti': 5.752572638825633,\n",
       " '▁sectio': 5.752572638825633,\n",
       " '▁section': 5.752572638825633,\n",
       " 'sec': 5.752572638825633,\n",
       " 'sect': 5.752572638825633,\n",
       " 'secti': 5.752572638825633,\n",
       " 'sectio': 5.752572638825633,\n",
       " 'section': 5.752572638825633,\n",
       " 'ec': 5.752572638825633,\n",
       " 'ect': 5.752572638825633,\n",
       " 'ecti': 5.752572638825633,\n",
       " 'ectio': 5.752572638825633,\n",
       " 'ection': 5.752572638825633,\n",
       " 'ct': 5.752572638825633,\n",
       " 'cti': 5.752572638825633,\n",
       " 'ctio': 5.752572638825633,\n",
       " 'ction': 5.752572638825633,\n",
       " '▁sh': 5.752572638825633,\n",
       " '▁sho': 5.752572638825633,\n",
       " '▁show': 5.752572638825633,\n",
       " '▁shows': 5.752572638825633,\n",
       " 'sh': 5.752572638825633,\n",
       " 'sho': 5.752572638825633,\n",
       " 'show': 5.752572638825633,\n",
       " 'shows': 5.752572638825633,\n",
       " 'hows': 5.752572638825633,\n",
       " 'ows': 5.752572638825633,\n",
       " 'ws': 5.752572638825633,\n",
       " '▁sev': 5.752572638825633,\n",
       " '▁seve': 5.752572638825633,\n",
       " '▁sever': 5.752572638825633,\n",
       " '▁severa': 5.752572638825633,\n",
       " '▁several': 5.752572638825633,\n",
       " 'sev': 5.752572638825633,\n",
       " 'seve': 5.752572638825633,\n",
       " 'sever': 5.752572638825633,\n",
       " 'severa': 5.752572638825633,\n",
       " 'several': 5.752572638825633}"
      ]
     },
     "execution_count": 74,
     "metadata": {},
     "output_type": "execute_result"
    }
   ],
   "source": [
    "percent_to_remove=0.1\n",
    "vocab_size=100\n",
    "while len(model) > vocab_size:\n",
    "    scores = _compute_scores(model, word2count)\n",
    "    sorted_scores = sorted(scores.items(), key=lambda x: x[1])\n",
    "    # Remove percent_to_remove tokens with the lowest scores.\n",
    "    for i in range(int(len(model) * percent_to_remove)):\n",
    "        _ = token2count.pop(sorted_scores[i][0])\n",
    "    total_count = sum([freq for token, freq in token2count.items()])\n",
    "    model = {token: -np.log(count / total_count) for token, count in token2count.items()}\n",
    "model\n"
   ]
  },
  {
   "cell_type": "code",
   "execution_count": 75,
   "metadata": {
    "metadata": {}
   },
   "outputs": [],
   "source": [
    "def tokenize(text):\n",
    "    words = [word for word, _ in pre_tokenize_function(text)]\n",
    "    encoded_words = [_encode_word(word, model)[0] for word in words]\n",
    "    return sum(encoded_words, [])"
   ]
  },
  {
   "cell_type": "code",
   "execution_count": 76,
   "metadata": {
    "metadata": {}
   },
   "outputs": [
    {
     "data": {
      "text/plain": [
       "['▁This', '▁is', '▁the', '▁Hugging', '▁Face', '<unk>']"
      ]
     },
     "execution_count": 76,
     "metadata": {},
     "output_type": "execute_result"
    }
   ],
   "source": [
    "tokenize(\"This is the Hugging Face course!\")"
   ]
  },
  {
   "cell_type": "code",
   "execution_count": 78,
   "metadata": {
    "metadata": {}
   },
   "outputs": [
    {
     "ename": "FileNotFoundError",
     "evalue": "[Errno 2] No such file or directory: 'chatglm-6b/ice_text.model'",
     "output_type": "error",
     "traceback": [
      "\u001b[1;31m---------------------------------------------------------------------------\u001b[0m",
      "\u001b[1;31mFileNotFoundError\u001b[0m                         Traceback (most recent call last)",
      "Cell \u001b[1;32mIn [78], line 4\u001b[0m\n\u001b[0;32m      1\u001b[0m \u001b[38;5;28;01mfrom\u001b[39;00m \u001b[38;5;21;01msentencepiece\u001b[39;00m \u001b[38;5;28;01mimport\u001b[39;00m sentencepiece_model_pb2\n\u001b[0;32m      3\u001b[0m m \u001b[38;5;241m=\u001b[39m sentencepiece_model_pb2\u001b[38;5;241m.\u001b[39mModelProto()\n\u001b[1;32m----> 4\u001b[0m \u001b[38;5;28;01mwith\u001b[39;00m \u001b[38;5;28;43mopen\u001b[39;49m\u001b[43m(\u001b[49m\u001b[38;5;124;43m'\u001b[39;49m\u001b[38;5;124;43mchatglm-6b/ice_text.model\u001b[39;49m\u001b[38;5;124;43m'\u001b[39;49m\u001b[43m,\u001b[49m\u001b[43m \u001b[49m\u001b[38;5;124;43m'\u001b[39;49m\u001b[38;5;124;43mrb\u001b[39;49m\u001b[38;5;124;43m'\u001b[39;49m\u001b[43m)\u001b[49m \u001b[38;5;28;01mas\u001b[39;00m f:\n\u001b[0;32m      5\u001b[0m     m\u001b[38;5;241m.\u001b[39mParseFromString(f\u001b[38;5;241m.\u001b[39mread())\n\u001b[0;32m      6\u001b[0m \u001b[38;5;28mprint\u001b[39m(\u001b[38;5;124m'\u001b[39m\u001b[38;5;124mChatGLM tokenizer\u001b[39m\u001b[38;5;130;01m\\n\u001b[39;00m\u001b[38;5;130;01m\\n\u001b[39;00m\u001b[38;5;124m'\u001b[39m\u001b[38;5;241m+\u001b[39m\u001b[38;5;28mstr\u001b[39m(m\u001b[38;5;241m.\u001b[39mtrainer_spec))\n",
      "\u001b[1;31mFileNotFoundError\u001b[0m: [Errno 2] No such file or directory: 'chatglm-6b/ice_text.model'"
     ]
    }
   ],
   "source": [
    "from sentencepiece import sentencepiece_model_pb2\n",
    "\n",
    "m = sentencepiece_model_pb2.ModelProto()\n",
    "with open('chatglm-6b/ice_text.model', 'rb') as f:\n",
    "    m.ParseFromString(f.read())\n",
    "print('ChatGLM tokenizer\\n\\n'+str(m.trainer_spec))"
   ]
  },
  {
   "cell_type": "code",
   "execution_count": 79,
   "metadata": {
    "metadata": {}
   },
   "outputs": [
    {
     "ename": "OSError",
     "evalue": "Not found: \"spm.model\": No such file or directory Error #2",
     "output_type": "error",
     "traceback": [
      "\u001b[1;31m---------------------------------------------------------------------------\u001b[0m",
      "\u001b[1;31mOSError\u001b[0m                                   Traceback (most recent call last)",
      "Cell \u001b[1;32mIn [79], line 2\u001b[0m\n\u001b[0;32m      1\u001b[0m \u001b[38;5;28;01mimport\u001b[39;00m \u001b[38;5;21;01msentencepiece\u001b[39;00m \u001b[38;5;28;01mas\u001b[39;00m \u001b[38;5;21;01mspm\u001b[39;00m\n\u001b[1;32m----> 2\u001b[0m s \u001b[38;5;241m=\u001b[39m \u001b[43mspm\u001b[49m\u001b[38;5;241;43m.\u001b[39;49m\u001b[43mSentencePieceProcessor\u001b[49m\u001b[43m(\u001b[49m\u001b[43mmodel_file\u001b[49m\u001b[38;5;241;43m=\u001b[39;49m\u001b[38;5;124;43m'\u001b[39;49m\u001b[38;5;124;43mspm.model\u001b[39;49m\u001b[38;5;124;43m'\u001b[39;49m\u001b[43m)\u001b[49m\n\u001b[0;32m      3\u001b[0m \u001b[38;5;28;01mfor\u001b[39;00m n \u001b[38;5;129;01min\u001b[39;00m \u001b[38;5;28mrange\u001b[39m(\u001b[38;5;241m5\u001b[39m):\n\u001b[0;32m      4\u001b[0m     s\u001b[38;5;241m.\u001b[39mencode(\u001b[38;5;124m'\u001b[39m\u001b[38;5;124mNew York\u001b[39m\u001b[38;5;124m'\u001b[39m, out_type\u001b[38;5;241m=\u001b[39m\u001b[38;5;28mstr\u001b[39m, enable_sampling\u001b[38;5;241m=\u001b[39m\u001b[38;5;28;01mTrue\u001b[39;00m, alpha\u001b[38;5;241m=\u001b[39m\u001b[38;5;241m0.1\u001b[39m, nbest_size\u001b[38;5;241m=\u001b[39m\u001b[38;5;241m-\u001b[39m\u001b[38;5;241m1\u001b[39m)\n",
      "File \u001b[1;32mc:\\ProgramData\\Anaconda3\\lib\\site-packages\\sentencepiece\\__init__.py:468\u001b[0m, in \u001b[0;36mSentencePieceProcessor.Init\u001b[1;34m(self, model_file, model_proto, out_type, add_bos, add_eos, reverse, emit_unk_piece, enable_sampling, nbest_size, alpha, num_threads)\u001b[0m\n\u001b[0;32m    466\u001b[0m \u001b[38;5;28mself\u001b[39m\u001b[38;5;241m.\u001b[39m_num_threads \u001b[38;5;241m=\u001b[39m num_threads\n\u001b[0;32m    467\u001b[0m \u001b[38;5;28;01mif\u001b[39;00m model_file \u001b[38;5;129;01mor\u001b[39;00m model_proto:\n\u001b[1;32m--> 468\u001b[0m   \u001b[38;5;28;43mself\u001b[39;49m\u001b[38;5;241;43m.\u001b[39;49m\u001b[43mLoad\u001b[49m\u001b[43m(\u001b[49m\u001b[43mmodel_file\u001b[49m\u001b[38;5;241;43m=\u001b[39;49m\u001b[43mmodel_file\u001b[49m\u001b[43m,\u001b[49m\u001b[43m \u001b[49m\u001b[43mmodel_proto\u001b[49m\u001b[38;5;241;43m=\u001b[39;49m\u001b[43mmodel_proto\u001b[49m\u001b[43m)\u001b[49m\n",
      "File \u001b[1;32mc:\\ProgramData\\Anaconda3\\lib\\site-packages\\sentencepiece\\__init__.py:961\u001b[0m, in \u001b[0;36mSentencePieceProcessor.Load\u001b[1;34m(self, model_file, model_proto)\u001b[0m\n\u001b[0;32m    959\u001b[0m \u001b[38;5;28;01mif\u001b[39;00m model_proto:\n\u001b[0;32m    960\u001b[0m   \u001b[38;5;28;01mreturn\u001b[39;00m \u001b[38;5;28mself\u001b[39m\u001b[38;5;241m.\u001b[39mLoadFromSerializedProto(model_proto)\n\u001b[1;32m--> 961\u001b[0m \u001b[38;5;28;01mreturn\u001b[39;00m \u001b[38;5;28;43mself\u001b[39;49m\u001b[38;5;241;43m.\u001b[39;49m\u001b[43mLoadFromFile\u001b[49m\u001b[43m(\u001b[49m\u001b[43mmodel_file\u001b[49m\u001b[43m)\u001b[49m\n",
      "File \u001b[1;32mc:\\ProgramData\\Anaconda3\\lib\\site-packages\\sentencepiece\\__init__.py:316\u001b[0m, in \u001b[0;36mSentencePieceProcessor.LoadFromFile\u001b[1;34m(self, arg)\u001b[0m\n\u001b[0;32m    315\u001b[0m \u001b[38;5;28;01mdef\u001b[39;00m \u001b[38;5;21mLoadFromFile\u001b[39m(\u001b[38;5;28mself\u001b[39m, arg):\n\u001b[1;32m--> 316\u001b[0m     \u001b[38;5;28;01mreturn\u001b[39;00m \u001b[43m_sentencepiece\u001b[49m\u001b[38;5;241;43m.\u001b[39;49m\u001b[43mSentencePieceProcessor_LoadFromFile\u001b[49m\u001b[43m(\u001b[49m\u001b[38;5;28;43mself\u001b[39;49m\u001b[43m,\u001b[49m\u001b[43m \u001b[49m\u001b[43marg\u001b[49m\u001b[43m)\u001b[49m\n",
      "\u001b[1;31mOSError\u001b[0m: Not found: \"spm.model\": No such file or directory Error #2"
     ]
    }
   ],
   "source": [
    "import sentencepiece as spm\n",
    "s = spm.SentencePieceProcessor(model_file='spm.model')\n",
    "for n in range(5):\n",
    "    s.encode('New York', out_type=str, enable_sampling=True, alpha=0.1, nbest_size=-1)\n",
    "\n"
   ]
  }
 ],
 "metadata": {
  "kernelspec": {
   "display_name": "base",
   "language": "python",
   "name": "python3"
  },
  "language_info": {
   "codemirror_mode": {
    "name": "ipython",
    "version": 3
   },
   "file_extension": ".py",
   "mimetype": "text/x-python",
   "name": "python",
   "nbconvert_exporter": "python",
   "pygments_lexer": "ipython3",
   "version": "3.9.13"
  }
 },
 "nbformat": 4,
 "nbformat_minor": 2
}
